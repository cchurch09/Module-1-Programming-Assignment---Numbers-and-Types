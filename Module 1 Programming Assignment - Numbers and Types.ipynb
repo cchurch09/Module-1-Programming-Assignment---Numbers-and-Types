{
 "cells": [
  {
   "cell_type": "code",
   "execution_count": 2,
   "id": "55ae179d-5f32-4b77-8501-cbd3392b4e89",
   "metadata": {},
   "outputs": [
    {
     "name": "stdout",
     "output_type": "stream",
     "text": [
      "sum  3600\n"
     ]
    }
   ],
   "source": [
    "\n",
    "seconds_in_mintue = 60\n",
    "mintues_in_hour = 60\n",
    "seconds_per_hour = seconds_in_mintue * mintues_in_hour\n",
    "print(\"sum \", seconds_per_hour)\n"
   ]
  },
  {
   "cell_type": "code",
   "execution_count": 3,
   "id": "0782200e-14e2-47ab-95c9-16b7d12d2069",
   "metadata": {},
   "outputs": [
    {
     "name": "stdout",
     "output_type": "stream",
     "text": [
      "sum is  86400\n"
     ]
    }
   ],
   "source": [
    "hour_per_day = 24\n",
    "seconds_per_day = hour_per_day * seconds_per_hour\n",
    "print(\"sum is \", seconds_per_day)"
   ]
  },
  {
   "cell_type": "code",
   "execution_count": 4,
   "id": "df65103b-ffbd-477d-87c1-0b7b4c9e0c7b",
   "metadata": {},
   "outputs": [
    {
     "data": {
      "text/plain": [
       "24.0"
      ]
     },
     "execution_count": 4,
     "metadata": {},
     "output_type": "execute_result"
    }
   ],
   "source": [
    "seconds_per_day / seconds_per_hour"
   ]
  },
  {
   "cell_type": "code",
   "execution_count": 5,
   "id": "c0a88d85-6862-4294-bb57-31f94362f7a1",
   "metadata": {},
   "outputs": [
    {
     "data": {
      "text/plain": [
       "24"
      ]
     },
     "execution_count": 5,
     "metadata": {},
     "output_type": "execute_result"
    }
   ],
   "source": [
    "seconds_per_day // seconds_per_hour"
   ]
  },
  {
   "cell_type": "code",
   "execution_count": null,
   "id": "be638424-bf82-41ae-9633-b2a4f272e1a2",
   "metadata": {},
   "outputs": [],
   "source": []
  }
 ],
 "metadata": {
  "kernelspec": {
   "display_name": "Python 3 (ipykernel)",
   "language": "python",
   "name": "python3"
  },
  "language_info": {
   "codemirror_mode": {
    "name": "ipython",
    "version": 3
   },
   "file_extension": ".py",
   "mimetype": "text/x-python",
   "name": "python",
   "nbconvert_exporter": "python",
   "pygments_lexer": "ipython3",
   "version": "3.12.7"
  }
 },
 "nbformat": 4,
 "nbformat_minor": 5
}
